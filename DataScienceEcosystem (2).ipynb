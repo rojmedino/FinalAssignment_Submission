{
 "cells": [
  {
   "cell_type": "markdown",
   "id": "e8567348-9623-49ea-bb76-1831dc37b14f",
   "metadata": {},
   "source": [
    "# Data Science Tools and Ecosystem"
   ]
  },
  {
   "cell_type": "markdown",
   "id": "906bf7e6-d83a-47c1-89eb-620433888087",
   "metadata": {},
   "source": [
    "In this notebook, Data Science Tools and Ecosystem are summarized."
   ]
  },
  {
   "cell_type": "markdown",
   "id": "7f4991f7-09b4-4520-8eaf-758e15a56098",
   "metadata": {},
   "source": [
    "Some of the popular languages that Data Scientists use are:\n",
    "1. Python\n",
    "2. R\n",
    "3. SQL\n",
    "4. Julia"
   ]
  },
  {
   "cell_type": "markdown",
   "id": "1532f944-4510-4743-942e-a80e69696d4d",
   "metadata": {},
   "source": [
    "Some of the commonly used libraries used by Data Scientists include:\n",
    "1. Pandas\n",
    "2. PyTorch\n",
    "3. Matplotlib\n",
    "4. NumPy"
   ]
  },
  {
   "cell_type": "markdown",
   "id": "e5f3502f-31cc-4c6f-b53a-8115a37d3a8a",
   "metadata": {},
   "source": [
    "|Data Science Tools|\n",
    "|---|\n",
    "|Scikit-learn|\n",
    "|TensorFlow|\n",
    "|Jupyter Notebook|\n",
    "|IBM-SPSS|"
   ]
  },
  {
   "cell_type": "markdown",
   "id": "df7f9e59-7ccb-48b1-a7eb-f49bcd93cc49",
   "metadata": {},
   "source": [
    "### Below are a few examples of evaluating arithmetic expressions in Python"
   ]
  },
  {
   "cell_type": "code",
   "execution_count": 7,
   "id": "48160bcf-f664-4978-ba0a-6e8025540890",
   "metadata": {},
   "outputs": [
    {
     "name": "stdout",
     "output_type": "stream",
     "text": [
      "17\n"
     ]
    }
   ],
   "source": [
    "#This a simple arithmetic expression to mutiply then add integers\n",
    "print((3*4)+5)"
   ]
  },
  {
   "cell_type": "code",
   "execution_count": 8,
   "id": "4e88e269-938d-4a5f-9f25-d776893e7b5d",
   "metadata": {},
   "outputs": [
    {
     "data": {
      "text/plain": [
       "3.3333333333333335"
      ]
     },
     "execution_count": 8,
     "metadata": {},
     "output_type": "execute_result"
    }
   ],
   "source": [
    "#This will convert 200 minutes to hours by diving by 60\n",
    "200/60\n"
   ]
  },
  {
   "cell_type": "markdown",
   "id": "cd816395-08e3-43c1-9bfe-166515d4572b",
   "metadata": {},
   "source": [
    "__Objectives__\n",
    "* List of popular languages for Data Science\n",
    "* List of popular libraries for Data Science\n",
    "* List of data science tools\n",
    "* Create a simple arithmetic code"
   ]
  },
  {
   "cell_type": "markdown",
   "id": "c6817033-6cc0-4e2c-b095-0a3a1f44f018",
   "metadata": {},
   "source": [
    "## Author\n",
    "\n",
    "Rojen Medino"
   ]
  }
 ],
 "metadata": {
  "kernelspec": {
   "display_name": "Python 3 (ipykernel)",
   "language": "python",
   "name": "python3"
  },
  "language_info": {
   "codemirror_mode": {
    "name": "ipython",
    "version": 3
   },
   "file_extension": ".py",
   "mimetype": "text/x-python",
   "name": "python",
   "nbconvert_exporter": "python",
   "pygments_lexer": "ipython3",
   "version": "3.13.0"
  }
 },
 "nbformat": 4,
 "nbformat_minor": 5
}
